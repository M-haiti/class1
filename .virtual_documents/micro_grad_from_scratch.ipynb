import math
import numpy as np
import matplotlib.pyplot as plt
get_ipython().run_line_magic("matplotlib", " inline")


def f(x):
    return 3*x**2 -4*x+5


f(3.0)


xs = np.arange(-5,5,0.25)
ys = f(xs)
plt.plot(xs, ys)


#Derivada a mano
h = 0.00000001
x = -3.0
(f(x+h)-f(x))/h



a = 2.0
b = -3.0
c = 10
d = a*b +c
print(d)


h = 0.0001
a = 2.0
b = -3.0 

d1 = a*b +c
c += h
d2 = a*b +c
print('d1', d1)
print('d2', d2)
print('slope', (d2-d1)/h)


class Value:
    def __init__(self, data):
        self.data =  data

    #def __repr__(self):
    #    return f"Value(data={self.data})"
    
    def __add__(self, other):
        out = Value(self.data +  other.data)
        return out
    
    def __mul__(self, other):
        out = Value(self.data *  other.data)
        return out
        
a = Value(2.0)
b = Value(-3.0)
a + b
a * b



